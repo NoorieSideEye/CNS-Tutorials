{
 "cells": [
  {
   "cell_type": "code",
   "execution_count": 1,
   "id": "71d77bbf",
   "metadata": {},
   "outputs": [
    {
     "name": "stdout",
     "output_type": "stream",
     "text": [
      "The encrypted message is: L kdyh frpsohwhg Wxwruldo-1 FQV\n"
     ]
    }
   ],
   "source": [
    "alphabet = \"abcdefghijklmnopqrstuvwxyzABCDEFGHIJKLMNOPQRSTUVWXYZ\"\n",
    "shift = 3\n",
    "\n",
    "sub_dict = {}\n",
    "for i in range(len(alphabet)):\n",
    "    sub_dict[alphabet[i]] = alphabet[(i + shift) % len(alphabet)]\n",
    "\n",
    "message = input(\"Enter the message to encrypt: \")\n",
    "\n",
    "encrypted = \"\"\n",
    "for char in message:\n",
    "    if char in sub_dict:\n",
    "        encrypted += sub_dict[char]\n",
    "    else:\n",
    "        encrypted += char\n",
    "\n",
    "print(\"The encrypted message is:\", encrypted)\n"
   ]
  },
  {
   "cell_type": "code",
   "execution_count": null,
   "id": "0b7b493b",
   "metadata": {},
   "outputs": [],
   "source": []
  }
 ],
 "metadata": {
  "kernelspec": {
   "display_name": "Python 3 (ipykernel)",
   "language": "python",
   "name": "python3"
  },
  "language_info": {
   "codemirror_mode": {
    "name": "ipython",
    "version": 3
   },
   "file_extension": ".py",
   "mimetype": "text/x-python",
   "name": "python",
   "nbconvert_exporter": "python",
   "pygments_lexer": "ipython3",
   "version": "3.10.9"
  }
 },
 "nbformat": 4,
 "nbformat_minor": 5
}
