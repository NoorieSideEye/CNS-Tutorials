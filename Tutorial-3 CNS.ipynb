{
 "cells": [
  {
   "cell_type": "code",
   "execution_count": 3,
   "id": "08ea707b",
   "metadata": {},
   "outputs": [
    {
     "name": "stdout",
     "output_type": "stream",
     "text": [
      "x is 11\n"
     ]
    }
   ],
   "source": [
    "def inv(a, m):\n",
    "    m0 = m\n",
    "    x0 = 0\n",
    "    x1 = 1\n",
    "\n",
    "    if m == 1:\n",
    "        return 0\n",
    "\n",
    "    while a > 1:\n",
    "        q = a // m\n",
    "        t = m\n",
    "        m = a % m\n",
    "        a = t\n",
    "        t = x0\n",
    "        x0 = x1 - q * x0\n",
    "        x1 = t\n",
    "\n",
    "    if x1 < 0:\n",
    "        x1 = x1 + m0\n",
    "\n",
    "    return x1\n",
    "\n",
    "def findMinX(num, rem, k):\n",
    "    prod = 1\n",
    "    for i in range(0, k):\n",
    "        prod = prod * num[i]\n",
    "\n",
    "    result = 0\n",
    "\n",
    "    for i in range(0, k):\n",
    "        pp = prod // num[i]\n",
    "        result = result + rem[i] * inv(pp, num[i]) * pp\n",
    "\n",
    "    return result % prod\n",
    "\n",
    "num = [3, 4, 5]\n",
    "rem = [2, 3, 1]\n",
    "k = len(num)\n",
    "print(\"x is\", findMinX(num, rem, k))\n"
   ]
  },
  {
   "cell_type": "code",
   "execution_count": null,
   "id": "ea7977cf",
   "metadata": {},
   "outputs": [],
   "source": []
  },
  {
   "cell_type": "code",
   "execution_count": null,
   "id": "b7f9f5ac",
   "metadata": {},
   "outputs": [],
   "source": []
  }
 ],
 "metadata": {
  "kernelspec": {
   "display_name": "Python 3 (ipykernel)",
   "language": "python",
   "name": "python3"
  },
  "language_info": {
   "codemirror_mode": {
    "name": "ipython",
    "version": 3
   },
   "file_extension": ".py",
   "mimetype": "text/x-python",
   "name": "python",
   "nbconvert_exporter": "python",
   "pygments_lexer": "ipython3",
   "version": "3.10.9"
  }
 },
 "nbformat": 4,
 "nbformat_minor": 5
}
