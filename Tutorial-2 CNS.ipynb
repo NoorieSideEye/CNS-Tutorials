{
 "cells": [
  {
   "cell_type": "code",
   "execution_count": 1,
   "id": "b219677b",
   "metadata": {},
   "outputs": [
    {
     "name": "stdout",
     "output_type": "stream",
     "text": [
      "Enter the first integer: 36\n",
      "Enter the second integer: 60\n",
      "gcd( 36 , 60 ) =  12\n"
     ]
    }
   ],
   "source": [
    "def gcd(a, b):\n",
    "    if a == 0:\n",
    "        return b\n",
    "    return gcd(b % a, a)\n",
    "\n",
    "if __name__ == \"__main__\":\n",
    "    a = int(input(\"Enter the first integer: \"))\n",
    "    b = int(input(\"Enter the second integer: \"))\n",
    "    print(\"gcd(\", a, \",\", b, \") = \", gcd(a, b))"
   ]
  },
  {
   "cell_type": "code",
   "execution_count": 2,
   "id": "c5b8c51c",
   "metadata": {},
   "outputs": [
    {
     "name": "stdout",
     "output_type": "stream",
     "text": [
      "Enter the first integer: 36\n",
      "Enter the second integer: 60\n",
      "gcd( 36 , 60 ) =  12 Coefficients are x=( 2 ,y= -1 ).\n"
     ]
    }
   ],
   "source": [
    "def gcdExtended(a, b):\n",
    "    if a == 0:\n",
    "        return b, 0, 1\n",
    "    gcd, x1, y1 = gcdExtended(b % a, a)\n",
    "    x = y1 - (b // a) * x1\n",
    "    y = x1\n",
    "    return gcd, x, y\n",
    "\n",
    "a = int(input(\"Enter the first integer: \"))\n",
    "b = int(input(\"Enter the second integer: \"))\n",
    "g, x, y = gcdExtended(a, b)\n",
    "print(\"gcd(\", a, \",\", b, \") = \", g,\"Coefficients are x=(\", x, \",y=\", y,\").\")"
   ]
  },
  {
   "cell_type": "code",
   "execution_count": null,
   "id": "e0bac5ea",
   "metadata": {},
   "outputs": [],
   "source": []
  }
 ],
 "metadata": {
  "kernelspec": {
   "display_name": "Python 3 (ipykernel)",
   "language": "python",
   "name": "python3"
  },
  "language_info": {
   "codemirror_mode": {
    "name": "ipython",
    "version": 3
   },
   "file_extension": ".py",
   "mimetype": "text/x-python",
   "name": "python",
   "nbconvert_exporter": "python",
   "pygments_lexer": "ipython3",
   "version": "3.10.9"
  }
 },
 "nbformat": 4,
 "nbformat_minor": 5
}
